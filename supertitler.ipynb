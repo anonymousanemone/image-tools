{
 "cells": [
  {
   "cell_type": "code",
   "execution_count": 22,
   "metadata": {},
   "outputs": [],
   "source": [
    "from docx import Document\n",
    "from pptx import Presentation\n",
    "from pptx.util import Pt\n",
    "from pptx.enum.text import PP_ALIGN\n",
    "from pptx.dml.color import RGBColor\n",
    "from pptx.enum.text import MSO_ANCHOR\n",
    "import sys"
   ]
  },
  {
   "cell_type": "code",
   "execution_count": 4,
   "metadata": {},
   "outputs": [],
   "source": [
    "def read_docx(file_path):\n",
    "    \"\"\"Reads a .docx file line by line, preserving formatting.\"\"\"\n",
    "    doc = Document(file_path)\n",
    "    lines = []\n",
    "    \n",
    "    for para in doc.paragraphs:\n",
    "        text = para.text.strip()\n",
    "        if text:\n",
    "            lines.append(text)\n",
    "    \n",
    "    return lines\n",
    "\n",
    "docx_file = \"/Users/sophial/Downloads/BCAD2025_Supertitles_File.docx\"\n",
    "docx_lines = read_docx(docx_file)"
   ]
  },
  {
   "cell_type": "code",
   "execution_count": 26,
   "metadata": {},
   "outputs": [
    {
     "name": "stdout",
     "output_type": "stream",
     "text": [
      "Created PowerPoint saved as /Users/sophial/Downloads/bcad4.pptx\n"
     ]
    }
   ],
   "source": [
    "def create_pptx(docx_lines, output_pptx):\n",
    "    \"\"\"Creates a new PowerPoint file with slides containing text from the .docx file.\"\"\"\n",
    "    prs = Presentation()\n",
    "    prs.slide_width = Pt(1920)\n",
    "    prs.slide_height = Pt(360)\n",
    "    \n",
    "    for line in docx_lines:\n",
    "        slide = prs.slides.add_slide(prs.slide_layouts[6])  # Use a blank slide layout\n",
    "        slide.background.fill.solid()\n",
    "        slide.background.fill.fore_color.rgb = RGBColor(0, 0, 0)  # Set black background\n",
    "        \n",
    "        # Create a new text box\n",
    "        left = Pt(20)\n",
    "        top = Pt(20)\n",
    "        width = Pt(1880)\n",
    "        height = Pt(320)\n",
    "        textbox = slide.shapes.add_textbox(left, top, width, height)\n",
    "        text_frame = textbox.text_frame\n",
    "        text_frame.word_wrap = True  # Enable text wrapping\n",
    "        text_frame.text = line\n",
    "        \n",
    "        # Format text\n",
    "        paragraph = text_frame.paragraphs[0]\n",
    "        paragraph.font.name = \"Times New Roman\"\n",
    "        paragraph.font.size = Pt(65)\n",
    "        paragraph.alignment = PP_ALIGN.CENTER\n",
    "        paragraph.font.color.rgb = RGBColor(255, 255, 255)  # Set white text\n",
    "        text_frame.margin_top = 0\n",
    "        text_frame.margin_bottom = 0\n",
    "        text_frame.vertical_anchor = MSO_ANCHOR.MIDDLE  # Align vertically center\n",
    "        \n",
    "    prs.save(output_pptx)\n",
    "    print(f\"Created PowerPoint saved as {output_pptx}\")\n",
    "\n",
    "output_pptx = \"/Users/sophial/Downloads/bcad4.pptx\"\n",
    "create_pptx(docx_lines, output_pptx)"
   ]
  }
 ],
 "metadata": {
  "kernelspec": {
   "display_name": "base",
   "language": "python",
   "name": "python3"
  },
  "language_info": {
   "codemirror_mode": {
    "name": "ipython",
    "version": 3
   },
   "file_extension": ".py",
   "mimetype": "text/x-python",
   "name": "python",
   "nbconvert_exporter": "python",
   "pygments_lexer": "ipython3",
   "version": "3.12.0"
  }
 },
 "nbformat": 4,
 "nbformat_minor": 2
}
